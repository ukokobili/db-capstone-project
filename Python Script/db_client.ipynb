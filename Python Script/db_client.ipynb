{
 "cells": [
  {
   "cell_type": "markdown",
   "id": "0d154499",
   "metadata": {},
   "source": [
    "## This notebook is about creating database clients to help Little Lemon Restaurant"
   ]
  },
  {
   "cell_type": "code",
   "execution_count": 1,
   "id": "100c5022",
   "metadata": {},
   "outputs": [],
   "source": [
    "# Importing required libraries\n",
    "import mysql.connector as connector"
   ]
  },
  {
   "cell_type": "code",
   "execution_count": 2,
   "id": "574d3a34",
   "metadata": {},
   "outputs": [
    {
     "data": {
      "text/plain": [
       "False"
      ]
     },
     "execution_count": 2,
     "metadata": {},
     "output_type": "execute_result"
    }
   ],
   "source": [
    "import os\n",
    "from dotenv import load_dotenv\n",
    "load_dotenv()"
   ]
  },
  {
   "cell_type": "code",
   "execution_count": 3,
   "id": "bd3a09dd",
   "metadata": {},
   "outputs": [],
   "source": [
    "# Establish the connection\n",
    "connection = connector.connect(\n",
    "    user = 'root',\n",
    "    password = 'root',\n",
    "    host = 'localhost',\n",
    "    port = 3306\n",
    "\t)"
   ]
  },
  {
   "cell_type": "code",
   "execution_count": 4,
   "id": "b71d4288",
   "metadata": {},
   "outputs": [],
   "source": [
    "cursor = connection.cursor()"
   ]
  },
  {
   "cell_type": "code",
   "execution_count": 5,
   "id": "cab44b2d",
   "metadata": {},
   "outputs": [],
   "source": [
    "use_database = \"\"\"USE littlelemondb;\"\"\"\n",
    "cursor.execute(use_database)"
   ]
  },
  {
   "cell_type": "code",
   "execution_count": 6,
   "id": "aa303403",
   "metadata": {},
   "outputs": [
    {
     "name": "stdout",
     "output_type": "stream",
     "text": [
      "Table no.  1 :  bookings\n",
      "Table no.  2 :  customers\n",
      "Table no.  3 :  menu\n",
      "Table no.  4 :  order_delivery_status\n",
      "Table no.  5 :  order_details\n",
      "Table no.  6 :  orders\n",
      "Table no.  7 :  staff\n"
     ]
    }
   ],
   "source": [
    "# Show tables of the database\n",
    "show_tables_query = \"\"\"SHOW TABLES;\"\"\" \n",
    "cursor.execute(show_tables_query)\n",
    "results = cursor.fetchall()\n",
    "\n",
    "for i, result in enumerate(results):\n",
    "    print(\"Table no. \", i+1, \": \", result[0])"
   ]
  },
  {
   "cell_type": "code",
   "execution_count": 9,
   "id": "fdecdc57",
   "metadata": {},
   "outputs": [
    {
     "name": "stdout",
     "output_type": "stream",
     "text": [
      "Information about customers for the purpose of promotional campaign:\n",
      "Customer no.  1 :  Pope whose contact is ( 1789236 ) has paid  105.0 $.\n",
      "Customer no.  2 :  Ken whose contact is ( 1808000 ) has paid  61.0 $.\n"
     ]
    }
   ],
   "source": [
    "# require the full name and contact details for every customer \n",
    "# that has placed an order greater than $60 for a promotional campaign.\n",
    "promotional_campaign = \"\"\"\n",
    "    SELECT c.firstName, c.lastName, c.phoneNumber, o.totalCost\n",
    "    FROM customers c\n",
    "    INNER JOIN bookings b\n",
    "        ON b.customerID = c.customerID\n",
    "    INNER JOIN orders o\n",
    "        ON o.bookingID = b.bookingID\n",
    "    WHERE o.totalCost > 60;\n",
    "\"\"\"\n",
    "\n",
    "cursor.execute(promotional_campaign)\n",
    "\n",
    "results = cursor.fetchall()\n",
    "\n",
    "print(\"Information about customers for the purpose of promotional campaign:\")\n",
    "\n",
    "for i, result in enumerate(results):\n",
    "    print(\"Customer no. \", i+1, \": \", result[0], \"whose contact is (\", result[2], \") has paid \", result[3], \"$.\")"
   ]
  },
  {
   "cell_type": "code",
   "execution_count": null,
   "id": "34f6907b",
   "metadata": {},
   "outputs": [],
   "source": []
  }
 ],
 "metadata": {
  "kernelspec": {
   "display_name": "Python 3 (ipykernel)",
   "language": "python",
   "name": "python3"
  },
  "language_info": {
   "codemirror_mode": {
    "name": "ipython",
    "version": 3
   },
   "file_extension": ".py",
   "mimetype": "text/x-python",
   "name": "python",
   "nbconvert_exporter": "python",
   "pygments_lexer": "ipython3",
   "version": "3.9.12"
  }
 },
 "nbformat": 4,
 "nbformat_minor": 5
}
